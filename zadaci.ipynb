{
 "cells": [
  {
   "cell_type": "markdown",
   "metadata": {},
   "source": [
    "1. Kreirajte dvije brojčane varijable te ispišite rezultat operatora usporedbe \n",
    "(usporedba jednakosti, nejednakosti, strogo veće, strogo manje, veće ili jednako, manje ili jednako)."
   ]
  },
  {
   "cell_type": "code",
   "execution_count": 1,
   "metadata": {},
   "outputs": [
    {
     "name": "stdout",
     "output_type": "stream",
     "text": [
      "False\n",
      "True\n",
      "False\n",
      "True\n",
      "False\n",
      "True\n"
     ]
    }
   ],
   "source": [
    "var1 =4\n",
    "var2 =5\n",
    "print(var1 ==var2)\n",
    "print(var1 !=var2)\n",
    "print(var1 >var2)\n",
    "print(var1 <var2)\n",
    "print(var1 >=var2)\n",
    "print(var1 <=var2)"
   ]
  },
  {
   "cell_type": "markdown",
   "metadata": {},
   "source": [
    "2  Kreirajte dvije varijable i dodijelite im vrijednosti True ili False. \n",
    "Ispišite rezultate logičkih operatora (and, or, not) za dvije prethodno kreirane varijable."
   ]
  },
  {
   "cell_type": "code",
   "execution_count": 25,
   "metadata": {},
   "outputs": [
    {
     "name": "stdout",
     "output_type": "stream",
     "text": [
      "False\n",
      "True\n",
      "False\n",
      "False\n"
     ]
    }
   ],
   "source": [
    "var1 =True\n",
    "var2 =True\n",
    "\n",
    "print(var1==True and var2 ==False )\n",
    "print(var1 ==True and var2 ==True)\n",
    "print(var2 ==False or var1 ==False)\n",
    "print(not var1)"
   ]
  },
  {
   "cell_type": "markdown",
   "metadata": {},
   "source": [
    "4. Napišite program koji će u varijable a i b spremiti dva dvoznamenkasta broja. \n",
    "U varijablu a pohranite zadnju znamenku broja koji se nalazi u varijabli b, a u varijablu b pohranite zadnju znamenku broja koja se nalazi u varijabli a. Ispišite sadržaj varijabli a i b."
   ]
  },
  {
   "cell_type": "code",
   "execution_count": 60,
   "metadata": {},
   "outputs": [
    {
     "name": "stdout",
     "output_type": "stream",
     "text": [
      "35 24\n"
     ]
    }
   ],
   "source": [
    "a =str(34)\n",
    "b =str(25)\n",
    "ac =a\n",
    "bc =b\n",
    "ac=ac.replace(a[1],b[1])\n",
    "bc=bc.replace(b[1],a[1])\n",
    "print(ac,bc)"
   ]
  },
  {
   "cell_type": "markdown",
   "metadata": {},
   "source": [
    "5. Omogućite unos 8 racionalnih brojeva te ispišite rezultat po sljedećoj formuli: \n",
    "a + b / c * d**e // f - g % h \n",
    "- komentarima ispišite što se sve događa kroz nekoliko slučajeva upisanih različitih brojeva"
   ]
  },
  {
   "cell_type": "code",
   "execution_count": 74,
   "metadata": {},
   "outputs": [
    {
     "name": "stdout",
     "output_type": "stream",
     "text": [
      "unesite 8 brojeva sa razmakom 1 1 1 1 1 1 1 1\n",
      "2.0\n"
     ]
    }
   ],
   "source": [
    "a =(input(\"unesite 8 brojeva sa razmakom \"))\n",
    "brojevi = a.split()\n",
    "#brojeve kao veliki string sam odvojio u jednu listu\n",
    "brojevi =[int(x) for x in brojevi]\n",
    "#zatim sam pomocu list compehation pretvorio sve brojeve koji su bili string u integers\n",
    "a,b,c,d,e,f,g,h = tuple(brojevi)\n",
    "print( a + b / c * d**e // f - g % h)\n",
    "#obavio sam matematičku funkciju"
   ]
  },
  {
   "cell_type": "markdown",
   "metadata": {},
   "source": [
    "6. Unesi jedan nasumični broj. \n",
    "Ispiši aritmetičku sredinu onoliko brojeva(0-101) koliko je iznosio uneseni nasumični broj.\n",
    "Navedeni broj uzmi kao vrijednost opsega kruga te ispiši vrijednost polumjera navedenog kruga."
   ]
  },
  {
   "cell_type": "code",
   "execution_count": 78,
   "metadata": {},
   "outputs": [
    {
     "name": "stdout",
     "output_type": "stream",
     "text": [
      "27.0\n"
     ]
    }
   ],
   "source": [
    "a=55\n",
    "lista =[ x for x in range(0,a)]\n",
    "\n",
    "sredina = sum(lista)/len(lista)\n",
    "print(sredina)"
   ]
  },
  {
   "cell_type": "markdown",
   "metadata": {},
   "source": [
    "7. Ispiši vrijednost broja Pi na 4 decimalna mjesta, kvadriraj taj broj te ga podijeli s racionalnim brojem odabranim \n",
    "od strane korisnika (input funkcija) i ispiši rezultat."
   ]
  },
  {
   "cell_type": "code",
   "execution_count": 84,
   "metadata": {},
   "outputs": [
    {
     "name": "stdout",
     "output_type": "stream",
     "text": [
      "unesi neki broj 3\n"
     ]
    },
    {
     "data": {
      "text/plain": [
       "3.28988352"
      ]
     },
     "execution_count": 84,
     "metadata": {},
     "output_type": "execute_result"
    }
   ],
   "source": [
    "djelitelj =int(input(\"unesi neki broj \"))\n",
    "import math\n",
    "PI =round(math.pi,4)\n",
    "(PI**2)/djelitelj"
   ]
  },
  {
   "cell_type": "markdown",
   "metadata": {},
   "source": [
    "8 Unesi neki nasumični broj kojeg ćeš uzeti kao vrijednost duljine liste u koju se trebaju spremiti vrijednosti od 0 do 1001. \n",
    "\tIspiši sljedeće vrijednosti na ekran:\n",
    "\t\ta) medijan\n",
    "\t\tb) mod\n",
    "\t\tc) aritmetičku vrijednost\n",
    "\t\td) sve brojeve koji se u definiranoj listi nalaze ispred vrijednosti koju smo izračunali kao medijan navedene liste\n",
    "\t\te) sve brojeve koji su manji od vrijednosti koju smo izračunali kao medijan navedene liste \n",
    "\n",
    "\t*Bonus: Napravite novu listu koja sadrži samo vrijednosti koje su za 10% veće ili manje od aritmetičke sredine\n"
   ]
  },
  {
   "cell_type": "code",
   "execution_count": 102,
   "metadata": {},
   "outputs": [
    {
     "name": "stdout",
     "output_type": "stream",
     "text": [
      "32 mean\n",
      "32 median\n",
      "32 mod\n",
      "[0, 1, 2, 3, 4, 5, 6, 7, 8, 9, 10, 11, 12, 13, 14, 15, 16, 17, 18, 19, 20, 21, 22, 23, 24, 25, 26, 27, 28, 29, 36, 37, 38, 39, 40, 41, 42, 43, 44, 45, 46, 47, 48, 49, 50, 51, 52, 53, 54, 55, 56, 57, 58, 59, 60, 61, 62, 63, 64]\n"
     ]
    }
   ],
   "source": [
    "a=65\n",
    "lista =[ x for x in range(0,a)]\n",
    "import statistics\n",
    "print(f\"{statistics.mean(lista) } mean\")\n",
    "print(f\"{statistics.median(lista) } median\")\n",
    "print(f\"{statistics.median(lista) } mod\")\n",
    "\n",
    "lista_2=[]\n",
    "for x in lista:\n",
    "    if x > (statistics.mean(lista)*1.1) or x < (statistics.mean(lista)/1.1) :\n",
    "        lista_2.append(x)\n",
    "        \n",
    "print(lista_2)"
   ]
  },
  {
   "cell_type": "markdown",
   "metadata": {},
   "source": [
    "9. Napišite algoritam koji prima nasumičan pozitivni broj manji od 86400 te pretvara taj broj iz sekunda \n",
    "i ispisuje koliko je to točno vrijeme u satima, minutama i sekundama"
   ]
  },
  {
   "cell_type": "code",
   "execution_count": 105,
   "metadata": {},
   "outputs": [
    {
     "name": "stdout",
     "output_type": "stream",
     "text": [
      "upiši neko broj manji od 86 000, i mi ćemo to pretvoriti u sekunde i sate 4444\n",
      "1:14:04\n"
     ]
    }
   ],
   "source": [
    "n =int(input(\"upiši neko broj manji od 86 000, i mi ćemo to pretvoriti u sekunde i sate \"))\n",
    "import datetime\n",
    "  \n",
    "def convert(n):\n",
    "    return str(datetime.timedelta(seconds = n))\n",
    "      \n",
    "# Driver program\n",
    "\n",
    "print(convert(n))"
   ]
  },
  {
   "cell_type": "markdown",
   "metadata": {},
   "source": [
    "10. Napišite algoritam koji uzima broj nasumične dužine te ispisuje:\n",
    "a) svaku drugu znamenku s tri decimalna mjesta (0,000) \n",
    "b) zaokružen zbroj svih upravo ispisanih znamenki"
   ]
  },
  {
   "cell_type": "code",
   "execution_count": 152,
   "metadata": {},
   "outputs": [
    {
     "name": "stdout",
     "output_type": "stream",
     "text": [
      "7.000\n"
     ]
    }
   ],
   "source": [
    "import decimal\n",
    "a=str(1311111111)\n",
    "lista_dec=[]\n",
    "len(a)\n",
    "for i in range(len(a)):\n",
    "    if i %2 !=0 and i !=0:\n",
    "        lista_dec.append(decimal.Decimal(format(int(a[i]), '.3f')))\n",
    "\n",
    "\n",
    "\n",
    "\n",
    "print(sum(lista_dec))"
   ]
  },
  {
   "cell_type": "markdown",
   "metadata": {},
   "source": [
    "11. U varijablu upišite neki proizvoljni niz znakova. Nad varijablom pozovite odgovarajuću funkciju koja će vratiti duljinu upisanoga niza znakova te rezultat spremite u novu varijablu. Ispišite sve znakove do polovice niza. \n",
    "Primjer: ako imamo niz od 15 znakova (abcdefghijklmno), potrebno je ispisati 1., 2., 3., 4., 5., 6., 7. i 8. znak (abcdefgh)"
   ]
  },
  {
   "cell_type": "code",
   "execution_count": 175,
   "metadata": {},
   "outputs": [
    {
     "name": "stdout",
     "output_type": "stream",
     "text": [
      "abcdefgh\n"
     ]
    }
   ],
   "source": [
    "a =\"abcdefghijklmno\"\n",
    "\n",
    "duzina=len(a)\n",
    "\n",
    "duz_za_iter =int()\n",
    "if duzina% 2==1:\n",
    "    duz_za_iter =int(duzina/2 +0.5)\n",
    "else:\n",
    "    duz_za_iter =duzina//2\n",
    "    \n",
    "string=\"\"\n",
    "for i in range(duz_za_iter):\n",
    "    string +=a[i]\n",
    "print(string)"
   ]
  },
  {
   "cell_type": "code",
   "execution_count": 168,
   "metadata": {},
   "outputs": [],
   "source": [
    "duz_za_iter =int()"
   ]
  },
  {
   "cell_type": "code",
   "execution_count": 169,
   "metadata": {},
   "outputs": [
    {
     "data": {
      "text/plain": [
       "0"
      ]
     },
     "execution_count": 169,
     "metadata": {},
     "output_type": "execute_result"
    }
   ],
   "source": [
    "duz_za_iter"
   ]
  },
  {
   "cell_type": "code",
   "execution_count": 170,
   "metadata": {},
   "outputs": [
    {
     "data": {
      "text/plain": [
       "3273228228.5"
      ]
     },
     "execution_count": 170,
     "metadata": {},
     "output_type": "execute_result"
    }
   ],
   "source": []
  },
  {
   "cell_type": "code",
   "execution_count": null,
   "metadata": {},
   "outputs": [],
   "source": []
  }
 ],
 "metadata": {
  "kernelspec": {
   "display_name": "Python 3",
   "language": "python",
   "name": "python3"
  },
  "language_info": {
   "codemirror_mode": {
    "name": "ipython",
    "version": 3
   },
   "file_extension": ".py",
   "mimetype": "text/x-python",
   "name": "python",
   "nbconvert_exporter": "python",
   "pygments_lexer": "ipython3",
   "version": "3.8.5"
  }
 },
 "nbformat": 4,
 "nbformat_minor": 4
}
